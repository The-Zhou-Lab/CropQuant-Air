{
 "cells": [
  {
   "cell_type": "code",
   "execution_count": null,
   "id": "11b89f01-31fa-4d4f-b86f-5cfa66b5c60c",
   "metadata": {},
   "outputs": [],
   "source": [
    "from sklearn import datasets \n",
    "from sklearn.model_selection import train_test_split\n",
    "import xgboost as xgb\n",
    "import datetime\n",
    "import matplotlib.pyplot as plt\n",
    "from time import time\n",
    "from sklearn.metrics import accuracy_score"
   ]
  },
  {
   "cell_type": "code",
   "execution_count": null,
   "id": "0f3eafaa-b1fe-41fa-990d-2f6a86b703e0",
   "metadata": {},
   "outputs": [],
   "source": [
    "wheat_yield = data.load(r\"\")\n",
    "data = wheat_yield.data\n",
    "data[:10]"
   ]
  },
  {
   "cell_type": "code",
   "execution_count": null,
   "id": "244f390b-d210-425c-ad2e-1abb77e702cf",
   "metadata": {},
   "outputs": [],
   "source": [
    "label = wheat_yield.target\n",
    "label"
   ]
  },
  {
   "cell_type": "code",
   "execution_count": null,
   "id": "d992846a-e678-4dfa-a310-95b78d7d5cdd",
   "metadata": {},
   "outputs": [],
   "source": [
    "feature = wheat_yield.data.T\n",
    "plt.scatter(feature[0], feature[1], alpha=0.5, s=100*feature[3], c=wheat_yield.target)\n",
    "plt.xlabelwheat_yield.feature_names[0])\n",
    "plt.ylabel(wheat_yield.feature_names[1])\n",
    "plt.show()\n"
   ]
  },
  {
   "cell_type": "code",
   "execution_count": null,
   "id": "15d6adfa-c43a-4c17-8f57-215fa1026419",
   "metadata": {},
   "outputs": [],
   "source": [
    "train_x, test_x, train_y, test_y = train_test_split(data, label, random_state=0)\n",
    "\n",
    "dtrain = xgb.DMatrix(train_x,label=train_y)\n",
    "dtest = xgb.DMatrix(test_x)"
   ]
  },
  {
   "cell_type": "code",
   "execution_count": null,
   "id": "fca95340-cb3f-4b5f-9472-6ee40c56949a",
   "metadata": {},
   "outputs": [],
   "source": [
    "param1 = {'verbosity':2\n",
    "          , \"tree_method\":\"gpu_hist\"  # 使用GPU\n",
    "          , \"gpu_id\": 0  # 指定GPU\n",
    "          , 'objective': 'multi:softmax'  # 目标 \n",
    "          , \"num_class\":3  # 指定多分类别数目\n",
    "          , 'eval_metric':'mlogloss'\n",
    "          \n",
    "#           , \"eta\":0.01\n",
    "          \n",
    "#           , \"gamma\":0\n",
    "#           , \"max_depth\":6\n",
    "\n",
    "#           , \"subsample\":1  # 横向抽样\n",
    "#           , \"colsample_bytree\":1  # 纵向抽样\n",
    "#           , \"colsample_bylevel\":1\n",
    "#           , \"colsample_bynode\":1\n",
    "\n",
    "#           , \"lambda\":1  # L2\n",
    "#           , \"alpha\":0  # L1\n",
    "         }\n",
    "num_round = 400\n",
    "print(\"The time of param１:\")\n",
    "t0 = time()\n",
    "cvresult1 = xgb.cv(params=param1, dtrain=dtrain, num_boost_round=num_round)\n",
    "print(datetime.datetime.fromtimestamp(time()-t0).strftime(\"%M:%S:%f\"))"
   ]
  },
  {
   "cell_type": "code",
   "execution_count": null,
   "id": "3391cf49-975e-435c-aa40-ea06b94fcbba",
   "metadata": {},
   "outputs": [],
   "source": [
    "param2 = {'verbosity':2\n",
    "          , \"tree_method\":\"gpu_hist\"  # 使用GPU\n",
    "          , \"gpu_id\": 0  # 指定GPU\n",
    "          , 'objective': 'multi:softmax'  # 目标 \n",
    "          , \"num_class\":3  # 指定多分类别数目\n",
    "          , 'eval_metric':'mlogloss'\n",
    "          \n",
    "#           , \"eta\":0.01\n",
    "          \n",
    "#           , \"gamma\":0\n",
    "#           , \"max_depth\":6\n",
    "\n",
    "#           , \"subsample\":1  # 横向抽样\n",
    "#           , \"colsample_bytree\":1  # 纵向抽样\n",
    "#           , \"colsample_bylevel\":1\n",
    "#           , \"colsample_bynode\":1\n",
    "\n",
    "#           , \"lambda\":1  # L2\n",
    "#           , \"alpha\":0  # L1\n",
    "         }\n",
    "\n",
    "t0 = time()\n",
    "print(\"The time of param2:\")\n",
    "cvresult2 = xgb.cv(params=param2, dtrain=dtrain, num_boost_round=num_round)\n",
    "print(datetime.datetime.fromtimestamp(time()-t0).strftime(\"%M:%S:%f\"))"
   ]
  },
  {
   "cell_type": "code",
   "execution_count": null,
   "id": "ef5efbaa-1b0c-47a3-88de-bc399ad7e50a",
   "metadata": {},
   "outputs": [],
   "source": [
    "param3 = {'verbosity':2\n",
    "          , \"tree_method\":\"gpu_hist\"  # 使用GPU\n",
    "          , \"gpu_id\": 0  # 指定GPU\n",
    "          , 'objective': 'multi:softmax'  # 目标 \n",
    "          , \"num_class\":3  # 指定多分类别数目\n",
    "          , 'eval_metric':'mlogloss'\n",
    "          \n",
    "          , \"eta\":0.01\n",
    "          \n",
    "#           , \"gamma\":0\n",
    "          , \"max_depth\":6\n",
    "\n",
    "#           , \"subsample\":1  # 横向抽样\n",
    "#           , \"colsample_bytree\":1  # 纵向抽样\n",
    "#           , \"colsample_bylevel\":1\n",
    "#           , \"colsample_bynode\":1\n",
    "\n",
    "#           , \"lambda\":1  # L2\n",
    "#           , \"alpha\":0  # L1\n",
    "         }\n",
    "\n",
    "print(\"The time of param3:\")\n",
    "t0 = time()\n",
    "cvresult3 = xgb.cv(params=param3, dtrain=dtrain, num_boost_round=num_round)\n",
    "print(datetime.datetime.fromtimestamp(time()-t0).strftime(\"%M:%S:%f\"))"
   ]
  },
  {
   "cell_type": "code",
   "execution_count": null,
   "id": "189e363d-f0a7-4e76-bebf-d2f938f91177",
   "metadata": {},
   "outputs": [],
   "source": [
    "#　调整参数后的效果\n",
    "fig, ax = plt.subplots(1, figsize=(15, 8))\n",
    "ax.grid()\n",
    "end = num_round + 1\n",
    "\n",
    "ax.plot(range(1, end), cvresult1.iloc[:, 0], c=\"red\", label=\"test_origin\")\n",
    "ax.plot(range(1, end), cvresult1.iloc[:, 2], c=\"green\", label=\"train_origin\")\n",
    "\n",
    "ax.plot(range(1, end), cvresult2.iloc[:, 0], c=\"pink\", label=\"test_last\")\n",
    "ax.plot(range(1, end), cvresult2.iloc[:, 2], c=\"yellow\", label=\"train_last\")\n",
    "\n",
    "ax.plot(range(1, end), cvresult3.iloc[:, 0], c=\"black\", label=\"test_this\")\n",
    "ax.plot(range(1, end), cvresult3.iloc[:, 2], c=\"blue\", label=\"train_this\")\n",
    "\n",
    "ax.legend(fontsize = \"xx-large\")\n",
    "ax.set_ylim(bottom=-0.1, top=0.7)\n",
    "plt.ylabel(cvresult1.columns[1].split(\"-\")[1], fontsize=16)\n",
    "plt.xlabel(\"num_round\", fontsize=16)\n",
    "plt.savefig(\"./imgs/cv.png\")\n",
    "plt.show()"
   ]
  },
  {
   "cell_type": "code",
   "execution_count": null,
   "id": "753fa463-0d09-490e-b75f-60816548c3f6",
   "metadata": {},
   "outputs": [],
   "source": [
    "#　调整参数后的效果\n",
    "fig, ax = plt.subplots(1, figsize=(15, 8))\n",
    "ax.grid()\n",
    "end = num_round + 1\n",
    "\n",
    "ax.plot(range(1, end), cvresult1.iloc[:, 0], c=\"red\", label=\"test_origin\")\n",
    "ax.plot(range(1, end), cvresult1.iloc[:, 2], c=\"green\", label=\"train_origin\")\n",
    "\n",
    "ax.plot(range(1, end), cvresult2.iloc[:, 0], c=\"pink\", label=\"test_last\")\n",
    "ax.plot(range(1, end), cvresult2.iloc[:, 2], c=\"yellow\", label=\"train_last\")\n",
    "\n",
    "ax.plot(range(1, end), cvresult3.iloc[:, 0], c=\"black\", label=\"test_this\")\n",
    "ax.plot(range(1, end), cvresult3.iloc[:, 2], c=\"blue\", label=\"train_this\")\n",
    "\n",
    "ax.legend(fontsize = \"xx-large\")\n",
    "ax.set_ylim(bottom=-0.1, top=0.7)\n",
    "plt.ylabel(cvresult1.columns[1].split(\"-\")[1], fontsize=16)\n",
    "plt.xlabel(\"num_round\", fontsize=16)\n",
    "plt.savefig(\"./imgs/cv.png\")\n",
    "plt.show()"
   ]
  },
  {
   "cell_type": "code",
   "execution_count": null,
   "id": "272afa11-7f05-4132-9498-20bddf3eeb98",
   "metadata": {},
   "outputs": [],
   "source": [
    "Multi_xgb = xgb.train(param1, dtrain, num_boost_round=400)"
   ]
  },
  {
   "cell_type": "code",
   "execution_count": null,
   "id": "9278c1a0-b3f8-423d-9dac-fda21245e94f",
   "metadata": {},
   "outputs": [],
   "source": [
    "y_hat = Multi_xgb.predict(dtest)"
   ]
  },
  {
   "cell_type": "code",
   "execution_count": null,
   "id": "995aa8cc-fa92-4e69-9131-f58ad1da1b65",
   "metadata": {},
   "outputs": [],
   "source": [
    "xgb.plot_importance(Multi_xgb)\n",
    "plt.show()"
   ]
  }
 ],
 "metadata": {
  "kernelspec": {
   "display_name": "Python 3 (ipykernel)",
   "language": "python",
   "name": "python3"
  },
  "language_info": {
   "codemirror_mode": {
    "name": "ipython",
    "version": 3
   },
   "file_extension": ".py",
   "mimetype": "text/x-python",
   "name": "python",
   "nbconvert_exporter": "python",
   "pygments_lexer": "ipython3",
   "version": "3.7.6"
  }
 },
 "nbformat": 4,
 "nbformat_minor": 5
}
